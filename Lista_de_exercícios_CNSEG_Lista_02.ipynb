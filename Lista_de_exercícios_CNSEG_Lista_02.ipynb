{
  "nbformat": 4,
  "nbformat_minor": 0,
  "metadata": {
    "colab": {
      "provenance": [],
      "authorship_tag": "ABX9TyPHct/neisWz7kYjyCSW/Gd",
      "include_colab_link": true
    },
    "kernelspec": {
      "name": "python3",
      "display_name": "Python 3"
    },
    "language_info": {
      "name": "python"
    }
  },
  "cells": [
    {
      "cell_type": "markdown",
      "metadata": {
        "id": "view-in-github",
        "colab_type": "text"
      },
      "source": [
        "<a href=\"https://colab.research.google.com/github/pevehdev/exercicios-mod01/blob/main/Lista_de_exerc%C3%ADcios_CNSEG_Lista_02.ipynb\" target=\"_parent\"><img src=\"https://colab.research.google.com/assets/colab-badge.svg\" alt=\"Open In Colab\"/></a>"
      ]
    },
    {
      "cell_type": "code",
      "execution_count": null,
      "metadata": {
        "id": "EIMqooMZFsgT"
      },
      "outputs": [],
      "source": []
    },
    {
      "cell_type": "markdown",
      "source": [
        "EXERCÍCIO 1 -\n",
        "\n",
        "O que é para fazer:\n",
        "\n",
        "Crie uma fila de espera com os nomes de cinco pessoas e execute as seguintes operações: <ul><li>1-Imprima na tela a fila atual.</li><li>2-Remova o primeiro elemento da fila e imprima na tela a fila atualizada.</li><li>3-Adicione mais dois nomes à fila e imprima na tela a fila atualizada.</li></ul>\n",
        "\n",
        "Como Fazer:\n",
        "\n",
        "Crie uma lista com cinco nomes de pessoas, que representará a fila de espera;\n",
        "Utilize a função print() para imprimir na tela a fila atual;\n",
        "Utilize o método pop(0) para remover o primeiro elemento da lista;\n",
        "Utilize novamente a função print() para imprimir a fila atualizada;\n",
        "Utilize o método append() para adicionar dois novos nomes à lista;\n",
        "Novamente, utilize a função print() para imprimir a fila atualizada."
      ],
      "metadata": {
        "id": "j9wdIp78FxKx"
      }
    },
    {
      "cell_type": "code",
      "source": [
        "# Criando a lista com os cinco nomes de pessoas\n",
        "fila = ['Ana', 'Julia', 'Paulo', 'João', 'Lucas']\n",
        "\n",
        "# Imprimindo a fila atual\n",
        "print(\"Fila atual:\", fila)\n",
        "\n",
        "# Removendo o primeiro elemento da lista\n",
        "fila.pop(0)\n",
        "\n",
        "# Imprimindo a fila atualizada\n",
        "print(\"Fila atualizada após remover o primeiro elemento:\", fila)\n",
        "\n",
        "# Adicionando dois novos nomes à lista\n",
        "fila.append('Guilherme')\n",
        "fila.append('Maria')\n",
        "\n",
        "# Imprimindo a fila atualizada novamente\n",
        "print(\"Fila atualizada após adicionar dois novos nomes:\", fila)"
      ],
      "metadata": {
        "colab": {
          "base_uri": "https://localhost:8080/"
        },
        "id": "LQrjaihVFycS",
        "outputId": "ad5da923-f8ce-4a00-c76e-16d89918a384"
      },
      "execution_count": 2,
      "outputs": [
        {
          "output_type": "stream",
          "name": "stdout",
          "text": [
            "Fila atual: ['Ana', 'Julia', 'Paulo', 'João', 'Lucas']\n",
            "Fila atualizada após remover o primeiro elemento: ['Julia', 'Paulo', 'João', 'Lucas']\n",
            "Fila atualizada após adicionar dois novos nomes: ['Julia', 'Paulo', 'João', 'Lucas', 'Guilherme', 'Maria']\n"
          ]
        }
      ]
    },
    {
      "cell_type": "markdown",
      "source": [
        "EXERCICIO 2 - O que é para fazer:\n",
        "\n",
        "Crie uma classe simples em Python para representar um animal. A classe deve ter um atributo \"nome\" e um método \"falar\", que exibe uma mensagem na tela com o som que o animal faz.\n",
        "\n",
        "Como Fazer:\n",
        "\n",
        "Crie um novo arquivo em Python chamado \"animal.py\";\n",
        "Defina a classe \"Animal\" com um método construtor init que recebe um parâmetro \"nome\" e armazena esse valor em um atributo da classe com o mesmo nome;\n",
        "Crie um método \"falar\" na classe \"Animal\" que exibe uma mensagem na tela com o som que o animal faz. Por exemplo, o método poderia exibir a mensagem \"O faz \"miau\" para um gato com nome \"Garfield\";\n",
        "Crie um objeto \"animal\" a partir da classe \"Animal\" e defina um nome para ele;\n",
        "Chame o método \"falar\" do objeto \"animal\" criado para exibir a mensagem com o som do animal."
      ],
      "metadata": {
        "id": "Dfz4qr6CHS5Z"
      }
    },
    {
      "cell_type": "code",
      "source": [
        "class Animal:\n",
        "    def __init__(self, nome):\n",
        "        self.nome = nome\n",
        "\n",
        "    def falar(self):\n",
        "        pass\n",
        "class Cachorro(Animal):\n",
        "    def __init__(self, nome, raca):\n",
        "        self.nome = nome\n",
        "        self.raca = raca\n",
        "    def falar(self) :\n",
        "        super().__init__(self.nome)\n",
        "        print(f\"O {self.nome} faz AUAU \")\n",
        "    def __str__(self):\n",
        "        return f\"Cachorro '{self.nome}' de raça'{self.raca}'\"\n",
        "class Gato(Animal):\n",
        "    def __init__(self, nome, raca):\n",
        "        self.nome = nome\n",
        "        self.raca = raca\n",
        "    def falar (self):\n",
        "        super().__init__(self.nome)\n",
        "        print(f\"O {self.nome} faz Miauuuuuuuuuuuuuuuuuuu\")\n",
        "\n",
        "    def __str__(self):\n",
        "        return f\"Gato '{self.nome}' de raça'{self.raca}'\"\n",
        "\n",
        "\n",
        "if __name__ == \"__main__\":\n",
        "\n",
        "    nome = input(\"Digite um nome de um animal: \")\n",
        "    raca = input('Digite a raça: ')\n",
        "\n",
        "    if nome == \"Garfield\":\n",
        "        instancia_animalA = Gato(nome, raca)\n",
        "        print(instancia_animalA.falar())\n",
        "\n",
        "    if nome == \"Pluto\":\n",
        "        instancia_animalB = Cachorro(nome, raca)\n",
        "        print(instancia_animalB.falar())\n",
        ""
      ],
      "metadata": {
        "colab": {
          "base_uri": "https://localhost:8080/"
        },
        "id": "Q123B3oeHWQl",
        "outputId": "859c169c-cabd-4afe-b91e-a2742c51bc2c"
      },
      "execution_count": 16,
      "outputs": [
        {
          "output_type": "stream",
          "name": "stdout",
          "text": [
            "Digite um nome de um animal: Pluto\n",
            "Digite a raça: nsei\n",
            "O Pluto faz AUAU \n",
            "None\n"
          ]
        }
      ]
    },
    {
      "cell_type": "markdown",
      "source": [
        "EXERCICIO 3\n",
        "\n",
        "O que é para fazer:\n",
        "\n",
        "Criar uma classe simples em Python para representar um produto. A classe deve ter dois atributos: \"nome\" e \"preco\". Em seguida, criar um objeto dessa classe com o nome \"Arroz\" e o preço \"5.99\".\n",
        "\n",
        "Como Fazer:\n",
        "\n",
        "Crie um novo arquivo em Python chamado \"\"produto.py\"\";\n",
        "Defina a classe \"\"Produto\"\" com um método construtor init que recebe dois parâmetros: \"\"nome\"\" e \"\"preco\"\", e armazena esses valores em atributos da classe com os mesmos nomes;\n",
        "Crie um objeto \"\"arroz\"\" a partir da classe \"\"Produto\"\" com o nome \"\"Arroz\"\" e o preço \"\"5.99\"\";\n",
        "Exiba o nome e o preço do objeto \"\"arroz\"\" na tela."
      ],
      "metadata": {
        "id": "2A82L2Lagcvu"
      }
    },
    {
      "cell_type": "code",
      "source": [
        "class Produto:\n",
        "    def __init__(self, nome, preco):\n",
        "        self.nome_produto = nome\n",
        "        self.preco = preco\n",
        "    def imprimir(self):\n",
        "        print(f\"Nome do produto: {self.nome_produto} Preço: {self.preco}\")\n",
        "\n",
        "if __name__ == \"__main__\":\n",
        "    nome_produto = input(\"Digite o nome do produto: \")\n",
        "    preco_produto = float(input(\"Digite o preço do produto: \"))\n",
        "\n",
        "    produto = Produto(nome_produto, preco_produto)\n",
        "    produto.imprimir()"
      ],
      "metadata": {
        "colab": {
          "base_uri": "https://localhost:8080/"
        },
        "id": "95dnCFIKgsIj",
        "outputId": "b2b9ee34-33ca-401d-cb2e-730bfa4e4224"
      },
      "execution_count": 18,
      "outputs": [
        {
          "output_type": "stream",
          "name": "stdout",
          "text": [
            "Digite o nome do produto: aaaa\n",
            "Digite o preço do produto: 20\n",
            "Nome do produto: aaaa Preço: 20.0\n"
          ]
        }
      ]
    },
    {
      "cell_type": "markdown",
      "source": [
        "EXERCICIO 4 -\n",
        "\n",
        " O que é para fazer:\n",
        "\n",
        "Crie uma classe Retangulo que tenha os atributos base e altura e os métodos area e perimetro. Em seguida, crie um objeto da classe Retangulo, leia os valores de base e altura desse objeto do usuário e exiba na tela a área e o perímetro do retangulo.\n",
        "\n",
        "Como Fazer:\n",
        "\n",
        "Crie uma classe chamada Retangulo;\n",
        "Defina os atributos base e altura da classe Retangulo;\n",
        "Defina os métodos area e perimetro da classe Retangulo. A fórmula da área é base x altura, e a fórmula do perímetro é 2 x (base + altura);\n",
        "Crie um objeto da classe Retangulo;\n",
        "Peça ao usuário para digitar os valores de base e altura do objeto;\n",
        "Use os métodos area e perimetro para calcular a área e o perímetro do retângulo;\n",
        "Exiba na tela a área e o perímetro do retângulo."
      ],
      "metadata": {
        "id": "iubjetP6op5w"
      }
    },
    {
      "cell_type": "code",
      "source": [
        "class Retangulo:\n",
        "    def __init__(self, base, altura):\n",
        "        self.base = base\n",
        "        self.altura = altura\n",
        "    def imprimir(self):\n",
        "        self.area_do_retangulo = (self.base * self.altura)\n",
        "        self.perimetro = 2*(self.base + self.altura)\n",
        "        print(f\"A área do Retangulo é: {self.area_do_retangulo} e o perimetro é: {self.perimetro}\")\n",
        "\n",
        "if __name__ == \"__main__\":\n",
        "    base = int(input(\"Digite a base do Retangulo: \"))\n",
        "    altura = int(input(\"Digite a altura do Retangulo: \"))\n",
        "\n",
        "    retangulo = Retangulo(base, altura)\n",
        "    retangulo.imprimir()\n"
      ],
      "metadata": {
        "id": "hZPYGEdRosJ_"
      },
      "execution_count": null,
      "outputs": []
    },
    {
      "cell_type": "markdown",
      "source": [
        "EXERCICIO 5 -\n",
        "\n",
        "O que é para fazer:\n",
        "\n",
        "Crie uma classe Aluno que tenha os atributos nome, idade e matrícula. Em seguida, crie um objeto da classe Aluno, leia os valores de nome, idade e matrícula desse objeto do usuário e exiba na tela os dados do aluno cadastrado.\n",
        "\n",
        "Como Fazer:\n",
        "\n",
        "Crie uma classe chamada Aluno;\n",
        "Defina os atributos nome, idade e matrícula da classe Aluno;\n",
        "Crie um objeto da classe Aluno;\n",
        "Peça ao usuário para digitar os valores de nome, idade e matrícula do objeto;\n",
        "Exiba na tela os dados do aluno cadastrado."
      ],
      "metadata": {
        "id": "wbaZKA7Csukp"
      }
    },
    {
      "cell_type": "code",
      "source": [
        "class Aluno:\n",
        "    def __init__(self, nome, idade, matricula):\n",
        "        self.nome = nome\n",
        "        self.idade = idade\n",
        "        self.matricula = matricula\n",
        "\n",
        "    def imprimir(self):\n",
        "        print (f\"Nome do aluno: {self.nome} \\n Idade: {self.idade} \\n Matricula: {self.matricula}\")\n",
        "\n",
        "nome = input(\"Digite o nome do aluno: \")\n",
        "idade = input(\"Digite a idade do aluno: \")\n",
        "matricula = input(\"Digite a matricula do aluno: \")\n",
        "\n",
        "aluno = Aluno(nome, idade, matricula)\n",
        "aluno.imprimir()"
      ],
      "metadata": {
        "colab": {
          "base_uri": "https://localhost:8080/"
        },
        "id": "d5oaphY7s1Em",
        "outputId": "d9a13192-db95-4721-b142-43252a0e6557"
      },
      "execution_count": 23,
      "outputs": [
        {
          "output_type": "stream",
          "name": "stdout",
          "text": [
            "Digite o nome do aluno: Paulo\n",
            "Digite a idade do aluno: 30\n",
            "Digite a matricula do aluno: 2015201514\n",
            "Nome do aluno: Paulo \n",
            " Idade: 30 \n",
            " Matricula: 2015201514\n"
          ]
        }
      ]
    }
  ]
}